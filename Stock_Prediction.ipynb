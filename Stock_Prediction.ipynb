{
  "nbformat": 4,
  "nbformat_minor": 0,
  "metadata": {
    "colab": {
      "name": "Stock Prediction.ipynb",
      "provenance": [],
      "authorship_tag": "ABX9TyOjWqQyl1jApkiEsS6YyPlQ",
      "include_colab_link": true
    },
    "kernelspec": {
      "name": "python3",
      "display_name": "Python 3"
    },
    "language_info": {
      "name": "python"
    }
  },
  "cells": [
    {
      "cell_type": "markdown",
      "metadata": {
        "id": "view-in-github",
        "colab_type": "text"
      },
      "source": [
        "<a href=\"https://colab.research.google.com/github/akashdeepo/TraderPy2/blob/main/Stock_Prediction.ipynb\" target=\"_parent\"><img src=\"https://colab.research.google.com/assets/colab-badge.svg\" alt=\"Open In Colab\"/></a>"
      ]
    },
    {
      "cell_type": "code",
      "source": [
        "#Predict stock prices by machine learning\n",
        "\n",
        "#Install Quandl"
      ],
      "metadata": {
        "id": "J7Io8dflu-4w"
      },
      "execution_count": null,
      "outputs": []
    },
    {
      "cell_type": "code",
      "execution_count": null,
      "metadata": {
        "id": "Ix1uB8DKuQKb"
      },
      "outputs": [],
      "source": [
        "pip install quandl"
      ]
    },
    {
      "cell_type": "code",
      "source": [
        "#Install dependencies\n",
        "import quandl\n",
        "import numpy as np\n",
        "from sklearn.linear_model import LinearRegression\n",
        "from sklearn.svm import SVR\n",
        "from sklearn.model_selection import train_test_split"
      ],
      "metadata": {
        "id": "EZnwkeUmvHvt"
      },
      "execution_count": 4,
      "outputs": []
    },
    {
      "cell_type": "code",
      "source": [
        "#Get the stock data\n",
        "\n",
        "df=quandl.get('WIKI/FB')\n",
        "# data view\n",
        "print(df.head())"
      ],
      "metadata": {
        "id": "rV2F21pSvclQ"
      },
      "execution_count": null,
      "outputs": []
    },
    {
      "cell_type": "code",
      "source": [
        "#get adjusted closing price\n",
        "df=df[['Adj. Close']]\n",
        "print(df.head())"
      ],
      "metadata": {
        "id": "YqZL8J0uv1Se"
      },
      "execution_count": null,
      "outputs": []
    },
    {
      "cell_type": "code",
      "source": [
        "#number of days in future//Change days(n) here//\n",
        "forecast_out= 30\n",
        "#create a target variable column shifted n units up\n",
        "df['Prediction']= df[['Adj. Close']].shift(-forecast_out)\n",
        "#print new data set\n",
        "print(df.tail())"
      ],
      "metadata": {
        "id": "PdDRnftjwLMq"
      },
      "execution_count": null,
      "outputs": []
    },
    {
      "cell_type": "code",
      "source": [
        "#create the independent data set(x)\n",
        "#convert to numpy array\n",
        "X = np.array(df.drop(['Prediction'],1))\n",
        "#remove the last n rows\n",
        "X = X[:-forecast_out]\n",
        "print(X)"
      ],
      "metadata": {
        "id": "mWPM5sX3x_K9"
      },
      "execution_count": null,
      "outputs": []
    },
    {
      "cell_type": "code",
      "source": [
        "#create the dependent data set(y)\n",
        "#convert the dataframe to numpy array(all values+ NaNs)\n",
        "y = np.array(df['Prediction'])\n",
        "#get all the y values except the last n rows\n",
        "y = y[:-forecast_out]\n",
        "print(y)"
      ],
      "metadata": {
        "colab": {
          "base_uri": "https://localhost:8080/"
        },
        "id": "Wzi_hQTsyR_P",
        "outputId": "24c0d1f6-d236-442a-f7bf-590df94a9a91"
      },
      "execution_count": 14,
      "outputs": [
        {
          "output_type": "stream",
          "name": "stdout",
          "text": [
            "[ 30.771  31.2    31.47  ... 159.39  160.06  152.19 ]\n"
          ]
        }
      ]
    },
    {
      "cell_type": "code",
      "source": [
        "#split data into 75% training and 25%testing\n",
        "x_train, x_test, y_train, y_test = train_test_split(X,y, test_size=0.25)\n"
      ],
      "metadata": {
        "id": "9qIuCQHOzhcG"
      },
      "execution_count": 17,
      "outputs": []
    },
    {
      "cell_type": "code",
      "source": [
        "#Create and train the SUPPORT VECTOR MACHINE(REGRESSOR)\n",
        "#rbf=radio basis kernel--visit documentation\n",
        "svr_rbf= SVR(kernel='rbf', C=1e3, gamma=0.1)\n",
        "svr_rbf.fit(x_train,y_train)\n"
      ],
      "metadata": {
        "colab": {
          "base_uri": "https://localhost:8080/"
        },
        "id": "sgLBls7_0WD_",
        "outputId": "d06201e4-ef6f-4f96-bb50-459ba49ab3be"
      },
      "execution_count": 19,
      "outputs": [
        {
          "output_type": "execute_result",
          "data": {
            "text/plain": [
              "SVR(C=1000.0, gamma=0.1)"
            ]
          },
          "metadata": {},
          "execution_count": 19
        }
      ]
    },
    {
      "cell_type": "code",
      "source": [
        "#testing model-score returns the coeff. of determination R^2 of the prediction\n",
        "#highest score =1.0 \n",
        "svm_confidence= svr_rbf.score(x_test,y_test)\n",
        "print('svm confidence:',svm_confidence)"
      ],
      "metadata": {
        "colab": {
          "base_uri": "https://localhost:8080/"
        },
        "id": "LbrtMea81SJE",
        "outputId": "26b80f2e-4d7d-4111-aa53-5227c490206f"
      },
      "execution_count": 20,
      "outputs": [
        {
          "output_type": "stream",
          "name": "stdout",
          "text": [
            "svm confidence: 0.9824333989964228\n"
          ]
        }
      ]
    },
    {
      "cell_type": "code",
      "source": [
        "#Create and train the Linear regression model\n",
        "#lr=inear regression\n",
        "lr= LinearRegression()\n",
        "#train the model\n",
        "lr.fit(x_train,y_train)\n"
      ],
      "metadata": {
        "id": "xYWugVY61y1M"
      },
      "execution_count": null,
      "outputs": []
    },
    {
      "cell_type": "code",
      "source": [
        "#testing model-score returns the coeff. of determination R^2 of the prediction\n",
        "#highest score =1.0\n",
        "lr_confidence= lr.score(x_test,y_test)\n",
        "print('lr confidence:',lr_confidence)"
      ],
      "metadata": {
        "colab": {
          "base_uri": "https://localhost:8080/"
        },
        "id": "cArUSkST2MFU",
        "outputId": "b509bde7-fd3f-42da-bc0c-aabb27f52008"
      },
      "execution_count": 22,
      "outputs": [
        {
          "output_type": "stream",
          "name": "stdout",
          "text": [
            "lr confidence: 0.9808460346829868\n"
          ]
        }
      ]
    },
    {
      "cell_type": "code",
      "source": [
        "#set x_forecast equal to last 30 rows of OG data from Adj. Close solumn\n",
        "x_forecast= np.array(df.drop(['Prediction'],1))[-forecast_out:]\n",
        "print(x_forecast)"
      ],
      "metadata": {
        "id": "B6PoIht52dCO"
      },
      "execution_count": null,
      "outputs": []
    },
    {
      "cell_type": "code",
      "source": [
        "#print LINEAR REGRESSOR (LR) Prediction for the next 'n' days\n",
        "lr_prediction= lr.predict(x_forecast)\n",
        "print(lr_prediction)\n",
        "\n",
        "#print SUPPORT VECTOR REGRESSOR (SVR) prediction for the next 'n' days\n",
        "svm_prediction= svr_rbf.predict(x_forecast)\n",
        "print(svm_prediction)"
      ],
      "metadata": {
        "colab": {
          "base_uri": "https://localhost:8080/"
        },
        "id": "GSjMi0Dp3Fjq",
        "outputId": "1756090e-1f8e-4f7c-f6f6-be1045cba6f1"
      },
      "execution_count": 26,
      "outputs": [
        {
          "output_type": "stream",
          "name": "stdout",
          "text": [
            "[177.03334021 183.47411248 183.91900099 181.29011435 179.92511551\n",
            " 181.84622498 182.93822405 187.28599811 188.94421891 185.43566636\n",
            " 182.26078018 179.8543378  180.54189276 184.36388949 183.73700114\n",
            " 187.71066441 186.32544337 189.24755198 188.77233017 185.86033266\n",
            " 188.19599733 187.86233095 189.10599655 176.43678517 171.97778898\n",
            " 173.23156568 168.68156958 163.12046322 163.79790709 155.84046945]\n",
            "[174.94492727 180.65629924 180.37555091 178.60818859 175.90671239\n",
            " 179.56763827 180.74217762 179.1019956  178.25468537 180.41498722\n",
            " 180.19274806 175.72309249 177.26969884 180.12933328 180.49888803\n",
            " 178.15656537 180.63511864 179.17321469 177.87330716 180.65832205\n",
            " 177.49872911 177.87900388 178.71077772 177.72261075 171.36414514\n",
            " 171.56057641 172.22344543 167.43173035 166.31763201 157.2520022 ]\n"
          ]
        }
      ]
    }
  ]
}